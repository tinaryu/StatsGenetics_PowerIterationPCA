{
 "cells": [
  {
   "cell_type": "markdown",
   "metadata": {},
   "source": [
    "Implement the method of power iteration to approximate the top 10 PCs from HapMap3 data (see Galinsky et al. 2016a Am J Hum Genet). \n",
    "\n",
    "\n",
    "In cases of subtle structure (e.g. 2 populations with low Fst, or a single admixed population), investigate how accuracy of inferred ancestry varies with (a) number of SNPs used, (b) number of samples used, (c) whether or not other populations not relevant to the subtle structure are included in the data set. Discuss. "
   ]
  },
  {
   "cell_type": "markdown",
   "metadata": {},
   "source": []
  },
  {
   "cell_type": "markdown",
   "metadata": {},
   "source": [
    "*********\n",
    "First part:\n",
    "Include all ancestries?\n",
    "Include all individuals? # does population size matter?\n",
    "Include all 23 chromosomes?\n",
    "\n",
    "#rare variants\n",
    "\n",
    "How large is the data if we use all 23 chromosomes? Should we aim to use SNPs all 23 chromosomes for better accuracy?\n",
    "\n",
    "(a) how do we assess the accuracy of inferred ancestry? How do we determine the inferred ancestry from PCs? clusters?\n",
    "(c) other populations not relevant to the subtle structure <- does this mean a population that is very distant to the admixed population?\n",
    "\n",
    "\n",
    "1. data pre-processing (data selection 1. standardize in some way? large/small population 2. which chromosome (based on number of SNPs) 3. how to handle rare/non-rare SNPs)\n",
    "2. measures after method (accuracy?)\n",
    "3. clarification on (c) distant to subtle structure. \n"
   ]
  },
  {
   "cell_type": "code",
   "execution_count": null,
   "metadata": {},
   "outputs": [],
   "source": []
  },
  {
   "cell_type": "code",
   "execution_count": 6,
   "metadata": {},
   "outputs": [],
   "source": [
    "import numpy as np"
   ]
  },
  {
   "cell_type": "code",
   "execution_count": 1,
   "metadata": {},
   "outputs": [],
   "source": [
    "import sys\n",
    "sys.path.append('/Users/tinaryu/stat_gen/hw_data') \n",
    "#sys.path is a list of directories that Python searches when you use import statement\n",
    "#append then adds the hw_data to the directories to be searched\n",
    "from CB_02704 import *"
   ]
  },
  {
   "cell_type": "code",
   "execution_count": 2,
   "metadata": {},
   "outputs": [],
   "source": [
    "# please set the path to your data directory here\n",
    "path = \"/Users/tinaryu/stat_gen/hw_data/02704_data\""
   ]
  },
  {
   "cell_type": "code",
   "execution_count": 3,
   "metadata": {},
   "outputs": [],
   "source": [
    "CEU = read_geno_pop_chr('CEU',2) #northern European, USA\n",
    "YRI = read_geno_pop_chr('YRI',2) ##Yoruba, Nigeria\n",
    "CHB = read_geno_pop_chr('CHB',2) #Chinese, China"
   ]
  },
  {
   "cell_type": "code",
   "execution_count": 9,
   "metadata": {},
   "outputs": [
    {
     "data": {
      "text/plain": [
       "array([[2, 9, 1, 1, 2, 1, 1, 1, 1, 0, 2, 2, 2, 2, 2, 1, 2, 2, 2, 1, 0, 2,\n",
       "        1, 2, 2, 1, 0, 2, 2, 2],\n",
       "       [2, 1, 2, 1, 2, 0, 1, 1, 1, 1, 2, 2, 2, 2, 2, 1, 2, 2, 2, 2, 0, 1,\n",
       "        1, 2, 2, 1, 0, 2, 2, 2],\n",
       "       [0, 1, 0, 1, 0, 2, 1, 1, 1, 0, 1, 1, 1, 2, 2, 1, 0, 2, 0, 2, 2, 1,\n",
       "        2, 0, 0, 1, 2, 2, 0, 2]], dtype=uint8)"
      ]
     },
     "execution_count": 9,
     "metadata": {},
     "output_type": "execute_result"
    }
   ],
   "source": [
    "#let's only use 10 samples\n",
    "CEU10 = [x[:10] for x in CEU.data]\n",
    "YRI10 = [x[:10] for x in YRI.data]\n",
    "CHB10 = [x[:10] for x in CHB.data]\n",
    "\n",
    "combined = CEUGIH = np.hstack((CEU10,YRI10,CHB10))\n",
    "combined[:3]"
   ]
  },
  {
   "cell_type": "markdown",
   "metadata": {},
   "source": [
    "make covariance matrix"
   ]
  },
  {
   "cell_type": "code",
   "execution_count": 10,
   "metadata": {},
   "outputs": [
    {
     "data": {
      "text/plain": [
       "matrix([[ 1.04939655,  0.1442113 ,  0.10411023,  0.11942946,  0.1244875 ,\n",
       "          0.12380159,  0.11804057,  0.11456272,  0.1146421 ,  0.10272657,\n",
       "         -0.14361319, -0.13266451, -0.13888598, -0.15679204, -0.15140712,\n",
       "         -0.14640385, -0.17186275, -0.14080115, -0.15866648, -0.15553388,\n",
       "         -0.05088867, -0.08977696, -0.02483831, -0.05791737, -0.04814767,\n",
       "         -0.05276294, -0.1029605 , -0.06725751, -0.07351708, -0.05071065],\n",
       "        [ 0.1442113 ,  1.09756173,  0.10867527,  0.10892971,  0.14451789,\n",
       "          0.12065713,  0.09416571,  0.13114686,  0.13083088,  0.08051892,\n",
       "         -0.14486011, -0.12324853, -0.14135088, -0.15646246, -0.13148654,\n",
       "         -0.14988804, -0.12596964, -0.10752208, -0.1315194 , -0.11832898,\n",
       "         -0.09552404, -0.08755147, -0.06285281, -0.05877057, -0.11676345,\n",
       "         -0.09845117, -0.06097272, -0.09149419, -0.05361112, -0.10458719],\n",
       "        [ 0.10411023,  0.10867527,  1.05267779,  0.11794435,  0.14105985,\n",
       "          0.11341018,  0.10639867,  0.12113675,  0.10085898,  0.11914314,\n",
       "         -0.14212354, -0.12378112, -0.12679344, -0.14225366, -0.14274842,\n",
       "         -0.1342469 , -0.14876808, -0.14968902, -0.13175018, -0.14159026,\n",
       "         -0.06651576, -0.08030608, -0.06245434, -0.08559332, -0.05482668,\n",
       "         -0.10944711, -0.07377719, -0.07617226, -0.02272845, -0.0698494 ],\n",
       "        [ 0.11942946,  0.10892971,  0.11794435,  1.06166207,  0.13037946,\n",
       "          0.12655866,  0.11640817,  0.10671778,  0.12834188,  0.1056823 ,\n",
       "         -0.11918969, -0.11442292, -0.1056668 , -0.12996746, -0.13697767,\n",
       "         -0.1340289 , -0.12907214, -0.12654556, -0.11796253, -0.13680861,\n",
       "         -0.0915595 , -0.11547092, -0.06423246, -0.09531258, -0.09300166,\n",
       "         -0.10685757, -0.07538504, -0.06333228, -0.06140909, -0.10485045],\n",
       "        [ 0.1244875 ,  0.14451789,  0.14105985,  0.13037946,  1.05355082,\n",
       "          0.12364841,  0.09518101,  0.11352402,  0.1323313 ,  0.0963174 ,\n",
       "         -0.10914199, -0.12149432, -0.13698644, -0.13540098, -0.12309369,\n",
       "         -0.12328918, -0.12264   , -0.11610061, -0.13540333, -0.12028416,\n",
       "         -0.10198357, -0.0903874 , -0.07328584, -0.07434316, -0.07826174,\n",
       "         -0.09665407, -0.08265527, -0.12149431, -0.08093629, -0.11116131],\n",
       "        [ 0.12380159,  0.12065713,  0.11341018,  0.12655866,  0.12364841,\n",
       "          1.0211001 ,  0.11294247,  0.12205508,  0.13465996,  0.11677818,\n",
       "         -0.1090612 , -0.12374926, -0.11169135, -0.14632631, -0.12928636,\n",
       "         -0.12741613, -0.12778161, -0.12850514, -0.09857362, -0.11170276,\n",
       "         -0.09175203, -0.07087228, -0.10016099, -0.09138145, -0.09748439,\n",
       "         -0.10803089, -0.0928075 , -0.08606576, -0.08767214, -0.07529061],\n",
       "        [ 0.11804057,  0.09416571,  0.10639867,  0.11640817,  0.09518101,\n",
       "          0.11294247,  1.08045317,  0.14450182,  0.1077874 ,  0.0960659 ,\n",
       "         -0.13734665, -0.14324253, -0.12707466, -0.14745796, -0.13186002,\n",
       "         -0.11753862, -0.12303711, -0.14110557, -0.13224553, -0.12562683,\n",
       "         -0.06261527, -0.05787228, -0.09018627, -0.08553037, -0.04918732,\n",
       "         -0.09352837, -0.09099323, -0.06094067, -0.07737365, -0.07718198],\n",
       "        [ 0.11456272,  0.13114686,  0.12113675,  0.10671778,  0.11352402,\n",
       "          0.12205508,  0.14450182,  1.02420235,  0.11764991,  0.08930164,\n",
       "         -0.13152107, -0.13379314, -0.1138237 , -0.13610513, -0.1135884 ,\n",
       "         -0.13214899, -0.12953712, -0.14892571, -0.11997232, -0.14475779,\n",
       "         -0.06212912, -0.08039536, -0.07417534, -0.05264289, -0.0893424 ,\n",
       "         -0.11609894, -0.07699368, -0.08555464, -0.07230788, -0.07098533],\n",
       "        [ 0.1146421 ,  0.13083088,  0.10085898,  0.12834188,  0.1323313 ,\n",
       "          0.13465996,  0.1077874 ,  0.11764991,  1.05795933,  0.07729309,\n",
       "         -0.12520141, -0.15974556, -0.14393088, -0.12928937, -0.14983449,\n",
       "         -0.12885204, -0.14800346, -0.12354646, -0.13311151, -0.12769588,\n",
       "         -0.07663745, -0.07924565, -0.0440932 , -0.08656585, -0.08285307,\n",
       "         -0.10170648, -0.05751603, -0.06488799, -0.07044391, -0.06919414],\n",
       "        [ 0.10272657,  0.08051892,  0.11914314,  0.1056823 ,  0.0963174 ,\n",
       "          0.11677818,  0.0960659 ,  0.08930164,  0.07729309,  1.0533112 ,\n",
       "         -0.11008158, -0.12790987, -0.11861689, -0.12558343, -0.14339706,\n",
       "         -0.11163953, -0.10831619, -0.09442781, -0.10774818, -0.13153731,\n",
       "         -0.05980759, -0.0866871 , -0.07801956, -0.0614583 , -0.05998172,\n",
       "         -0.08670652, -0.09912358, -0.08295786, -0.08784104, -0.0552972 ],\n",
       "        [-0.14361319, -0.14486011, -0.14212354, -0.11918969, -0.10914199,\n",
       "         -0.1090612 , -0.13734665, -0.13152107, -0.12520141, -0.11008158,\n",
       "          1.09768915,  0.19296882,  0.17923316,  0.2204447 ,  0.2163875 ,\n",
       "          0.18530704,  0.19718061,  0.19480821,  0.19220297,  0.17684691,\n",
       "         -0.15317648, -0.11513284, -0.17920842, -0.14209246, -0.17736296,\n",
       "         -0.14776892, -0.16170815, -0.19399895, -0.16218794, -0.14829153],\n",
       "        [-0.13266451, -0.12324853, -0.12378112, -0.11442292, -0.12149432,\n",
       "         -0.12374926, -0.14324253, -0.13379314, -0.15974556, -0.12790987,\n",
       "          0.19296882,  1.09412303,  0.20651039,  0.19914348,  0.20663811,\n",
       "          0.2142325 ,  0.18892829,  0.22548606,  0.20512944,  0.21749588,\n",
       "         -0.1851367 , -0.15577159, -0.1636438 , -0.15784192, -0.16928998,\n",
       "         -0.16561541, -0.16386337, -0.1588634 , -0.16851076, -0.15806733],\n",
       "        [-0.13888598, -0.14135088, -0.12679344, -0.1056668 , -0.13698644,\n",
       "         -0.11169135, -0.12707466, -0.1138237 , -0.14393088, -0.11861689,\n",
       "          0.17923316,  0.20651039,  1.08724313,  0.21046212,  0.21047379,\n",
       "          0.19085521,  0.1882426 ,  0.18847185,  0.19802149,  0.20388171,\n",
       "         -0.17453728, -0.15665073, -0.16684476, -0.15340565, -0.16114231,\n",
       "         -0.1500562 , -0.15195079, -0.1511985 , -0.1553337 , -0.17745448],\n",
       "        [-0.15679204, -0.15646246, -0.14225366, -0.12996746, -0.13540098,\n",
       "         -0.14632631, -0.14745796, -0.13610513, -0.12928937, -0.12558343,\n",
       "          0.2204447 ,  0.19914348,  0.21046212,  1.14980148,  0.20929183,\n",
       "          0.20764118,  0.20071471,  0.20384182,  0.20139711,  0.22669783,\n",
       "         -0.1719693 , -0.16086252, -0.17157745, -0.16113353, -0.17277829,\n",
       "         -0.15536895, -0.12855658, -0.18385564, -0.16991029, -0.14778493],\n",
       "        [-0.15140712, -0.13148654, -0.14274842, -0.13697767, -0.12309369,\n",
       "         -0.12928636, -0.13186002, -0.1135884 , -0.14983449, -0.14339706,\n",
       "          0.2163875 ,  0.20663811,  0.21047379,  0.20929183,  1.12282816,\n",
       "          0.19242504,  0.23017911,  0.20356627,  0.19656196,  0.21553159,\n",
       "         -0.19360248, -0.14569405, -0.17928494, -0.16330578, -0.16119413,\n",
       "         -0.14284101, -0.15029727, -0.16519958, -0.18083974, -0.16794462],\n",
       "        [-0.14640385, -0.14988804, -0.1342469 , -0.1340289 , -0.12328918,\n",
       "         -0.12741613, -0.11753862, -0.13214899, -0.12885204, -0.11163953,\n",
       "          0.18530704,  0.2142325 ,  0.19085521,  0.20764118,  0.19242504,\n",
       "          1.08838815,  0.18208475,  0.20945779,  0.20033648,  0.20945447,\n",
       "         -0.16779695, -0.1449646 , -0.1859704 , -0.15414788, -0.15276762,\n",
       "         -0.14193628, -0.16113485, -0.15163945, -0.1572587 , -0.15711369],\n",
       "        [-0.17186275, -0.12596964, -0.14876808, -0.12907214, -0.12264   ,\n",
       "         -0.12778161, -0.12303711, -0.12953712, -0.14800346, -0.10831619,\n",
       "          0.19718061,  0.18892829,  0.1882426 ,  0.20071471,  0.23017911,\n",
       "          0.18208475,  1.1042675 ,  0.22584619,  0.19689143,  0.21196602,\n",
       "         -0.17446187, -0.11148156, -0.15576004, -0.17583756, -0.16452159,\n",
       "         -0.14311966, -0.15248433, -0.18145455, -0.15665035, -0.17554161],\n",
       "        [-0.14080115, -0.10752208, -0.14968902, -0.12654556, -0.11610061,\n",
       "         -0.12850514, -0.14110557, -0.14892571, -0.12354646, -0.09442781,\n",
       "          0.19480821,  0.22548606,  0.18847185,  0.20384182,  0.20356627,\n",
       "          0.20945779,  0.22584619,  1.09098664,  0.1961334 ,  0.22810429,\n",
       "         -0.16527567, -0.15656967, -0.17052367, -0.16054762, -0.17919869,\n",
       "         -0.17527118, -0.16206182, -0.17576685, -0.18352642, -0.16079181],\n",
       "        [-0.15866648, -0.1315194 , -0.13175018, -0.11796253, -0.13540333,\n",
       "         -0.09857362, -0.13224553, -0.11997232, -0.13311151, -0.10774818,\n",
       "          0.19220297,  0.20512944,  0.19802149,  0.20139711,  0.19656196,\n",
       "          0.20033648,  0.19689143,  0.1961334 ,  1.07431327,  0.19550442,\n",
       "         -0.16380384, -0.18000699, -0.15710712, -0.14443622, -0.16412081,\n",
       "         -0.13583719, -0.15518953, -0.1851286 , -0.14885098, -0.15505758],\n",
       "        [-0.15553388, -0.11832898, -0.14159026, -0.13680861, -0.12028416,\n",
       "         -0.11170276, -0.12562683, -0.14475779, -0.12769588, -0.13153731,\n",
       "          0.17684691,  0.21749588,  0.20388171,  0.22669783,  0.21553159,\n",
       "          0.20945447,  0.21196602,  0.22810429,  0.19550442,  1.10962508,\n",
       "         -0.2008666 , -0.15907127, -0.16498277, -0.16040172, -0.16868118,\n",
       "         -0.16667658, -0.15036849, -0.16160441, -0.17632166, -0.17226706],\n",
       "        [-0.05088867, -0.09552404, -0.06651576, -0.0915595 , -0.10198357,\n",
       "         -0.09175203, -0.06261527, -0.06212912, -0.07663745, -0.05980759,\n",
       "         -0.15317648, -0.1851367 , -0.17453728, -0.1719693 , -0.19360248,\n",
       "         -0.16779695, -0.17446187, -0.16527567, -0.16380384, -0.2008666 ,\n",
       "          1.0574592 ,  0.14863528,  0.15487413,  0.134535  ,  0.21323453,\n",
       "          0.13864516,  0.15010694,  0.1710335 ,  0.16585024,  0.17566617],\n",
       "        [-0.08977696, -0.08755147, -0.08030608, -0.11547092, -0.0903874 ,\n",
       "         -0.07087228, -0.05787228, -0.08039536, -0.07924565, -0.0866871 ,\n",
       "         -0.11513284, -0.15577159, -0.15665073, -0.16086252, -0.14569405,\n",
       "         -0.1449646 , -0.11148156, -0.15656967, -0.18000699, -0.15907127,\n",
       "          0.14863528,  1.08100432,  0.12312695,  0.11942949,  0.1282441 ,\n",
       "          0.14726124,  0.13204693,  0.19391059,  0.13698496,  0.11412746],\n",
       "        [-0.02483831, -0.06285281, -0.06245434, -0.06423246, -0.07328584,\n",
       "         -0.10016099, -0.09018627, -0.07417534, -0.0440932 , -0.07801956,\n",
       "         -0.17920842, -0.1636438 , -0.16684476, -0.17157745, -0.17928494,\n",
       "         -0.1859704 , -0.15576004, -0.17052367, -0.15710712, -0.16498277,\n",
       "          0.15487413,  0.12312695,  1.12525471,  0.14464959,  0.11171785,\n",
       "          0.1192959 ,  0.12301172,  0.15947354,  0.14983586,  0.15796223],\n",
       "        [-0.05791737, -0.05877057, -0.08559332, -0.09531258, -0.07434316,\n",
       "         -0.09138145, -0.08553037, -0.05264289, -0.08656585, -0.0614583 ,\n",
       "         -0.14209246, -0.15784192, -0.15340565, -0.16113353, -0.16330578,\n",
       "         -0.15414788, -0.17583756, -0.16054762, -0.14443622, -0.16040172,\n",
       "          0.134535  ,  0.11942949,  0.14464959,  1.07123487,  0.13690686,\n",
       "          0.1546586 ,  0.14682889,  0.12279102,  0.1399127 ,  0.15171919],\n",
       "        [-0.04814767, -0.11676345, -0.05482668, -0.09300166, -0.07826174,\n",
       "         -0.09748439, -0.04918732, -0.0893424 , -0.08285307, -0.05998172,\n",
       "         -0.17736296, -0.16928998, -0.16114231, -0.17277829, -0.16119413,\n",
       "         -0.15276762, -0.16452159, -0.17919869, -0.16412081, -0.16868118,\n",
       "          0.21323453,  0.1282441 ,  0.11171785,  0.13690686,  1.06504813,\n",
       "          0.18619192,  0.12965381,  0.16451741,  0.14026226,  0.16513078],\n",
       "        [-0.05276294, -0.09845117, -0.10944711, -0.10685757, -0.09665407,\n",
       "         -0.10803089, -0.09352837, -0.11609894, -0.10170648, -0.08670652,\n",
       "         -0.14776892, -0.16561541, -0.1500562 , -0.15536895, -0.14284101,\n",
       "         -0.14193628, -0.14311966, -0.17527118, -0.13583719, -0.16667658,\n",
       "          0.13864516,  0.14726124,  0.1192959 ,  0.1546586 ,  0.18619192,\n",
       "          1.10902311,  0.16564234,  0.17137317,  0.13224086,  0.17040314],\n",
       "        [-0.1029605 , -0.06097272, -0.07377719, -0.07538504, -0.08265527,\n",
       "         -0.0928075 , -0.09099323, -0.07699368, -0.05751603, -0.09912358,\n",
       "         -0.16170815, -0.16386337, -0.15195079, -0.12855658, -0.15029727,\n",
       "         -0.16113485, -0.15248433, -0.16206182, -0.15518953, -0.15036849,\n",
       "          0.15010694,  0.13204693,  0.12301172,  0.14682889,  0.12965381,\n",
       "          0.16564234,  1.07701989,  0.14123286,  0.148471  ,  0.13678557],\n",
       "        [-0.06725751, -0.09149419, -0.07617226, -0.06333228, -0.12149431,\n",
       "         -0.08606576, -0.06094067, -0.08555464, -0.06488799, -0.08295786,\n",
       "         -0.19399895, -0.1588634 , -0.1511985 , -0.18385564, -0.16519958,\n",
       "         -0.15163945, -0.18145455, -0.17576685, -0.1851286 , -0.16160441,\n",
       "          0.1710335 ,  0.19391059,  0.15947354,  0.12279102,  0.16451741,\n",
       "          0.17137317,  0.14123286,  1.07519171,  0.14669165,  0.16265196],\n",
       "        [-0.07351708, -0.05361112, -0.02272845, -0.06140909, -0.08093629,\n",
       "         -0.08767214, -0.07737365, -0.07230788, -0.07044391, -0.08784104,\n",
       "         -0.16218794, -0.16851076, -0.1553337 , -0.16991029, -0.18083974,\n",
       "         -0.1572587 , -0.15665035, -0.18352642, -0.14885098, -0.17632166,\n",
       "          0.16585024,  0.13698496,  0.14983586,  0.1399127 ,  0.14026226,\n",
       "          0.13224086,  0.148471  ,  0.14669165,  1.05720108,  0.12978059],\n",
       "        [-0.05071065, -0.10458719, -0.0698494 , -0.10485045, -0.11116131,\n",
       "         -0.07529061, -0.07718198, -0.07098533, -0.06919414, -0.0552972 ,\n",
       "         -0.14829153, -0.15806733, -0.17745448, -0.14778493, -0.16794462,\n",
       "         -0.15711369, -0.17554161, -0.16079181, -0.15505758, -0.17226706,\n",
       "          0.17566617,  0.11412746,  0.15796223,  0.15171919,  0.16513078,\n",
       "          0.17040314,  0.13678557,  0.16265196,  0.12978059,  1.0451958 ]])"
      ]
     },
     "execution_count": 10,
     "metadata": {},
     "output_type": "execute_result"
    }
   ],
   "source": [
    "G = np.matrix(combined).astype(float) #update mtx values to float\n",
    "#replace all missing values with np.nan for easier data processing\n",
    "Gnan = np.where(G==9, np.nan, G)\n",
    "\n",
    "#take the mean of normalized Genotype data to get allele frequency for each SNP\n",
    "#p is a vector of all the allele frequencies\n",
    "p = np.nanmean(Gnan/2, axis = 1) #nanmean ignores nan values\n",
    "\n",
    "#Gsub - G subtracted\n",
    "p = p.reshape(-1,1) #change array to column vector\n",
    "Gsub= Gnan-2*p #matrix of mean subtracted for each SNP\n",
    "\n",
    "#replace all nan values in genotype matrix with 0\n",
    "Gsub_no_nan = np.nan_to_num(Gsub,nan=0)\n",
    "\n",
    "\n",
    "#get the stdev\n",
    "#stdev is a vector of all the SNP stdevs\n",
    "stdev = (2 * p * (1 - p)) ** (1/2)\n",
    "#replace all values with stdev == 0 to 1\n",
    "#note: when each row is divided by the stdev to be normalized the rows with 0 stdev will be just divided by one\n",
    "stdev[stdev==0] = 1\n",
    "\n",
    "#normalize by stdev\n",
    "stdev = stdev.reshape(-1,1)\n",
    "x = Gsub_no_nan/stdev\n",
    "x = np.matrix(x)\n",
    "xt = np.transpose(x)\n",
    "\n",
    "psi = (xt*x)/(len(G))\n",
    "psi"
   ]
  },
  {
   "cell_type": "code",
   "execution_count": 12,
   "metadata": {},
   "outputs": [
    {
     "data": {
      "text/plain": [
       "matrix([[-0.10660067, -0.23433013],\n",
       "        [-0.0853288 , -0.25726157],\n",
       "        [-0.09361405, -0.2364872 ],\n",
       "        [-0.07702816, -0.253507  ],\n",
       "        [-0.07508986, -0.26112101],\n",
       "        [-0.072694  , -0.25402897],\n",
       "        [-0.08729487, -0.2361123 ],\n",
       "        [-0.08427606, -0.24177721],\n",
       "        [-0.09144371, -0.2414551 ],\n",
       "        [-0.07274008, -0.21806923],\n",
       "        [ 0.24500503,  0.04633172],\n",
       "        [ 0.25531724,  0.04539178],\n",
       "        [ 0.24603935,  0.04404838],\n",
       "        [ 0.26247304,  0.06212416],\n",
       "        [ 0.26068594,  0.05285573],\n",
       "        [ 0.24705898,  0.0517669 ],\n",
       "        [ 0.25234717,  0.0540975 ],\n",
       "        [ 0.25801078,  0.03915142],\n",
       "        [ 0.24524243,  0.04473051],\n",
       "        [ 0.26070305,  0.04450843],\n",
       "        [-0.18357074,  0.19845851],\n",
       "        [-0.15350073,  0.19681768],\n",
       "        [-0.17507608,  0.17493707],\n",
       "        [-0.16168475,  0.18325597],\n",
       "        [-0.17434628,  0.19659756],\n",
       "        [-0.16124583,  0.22803977],\n",
       "        [-0.15865129,  0.19433622],\n",
       "        [-0.17910856,  0.20435029],\n",
       "        [-0.17089983,  0.17597243],\n",
       "        [-0.16868865,  0.1963777 ]])"
      ]
     },
     "execution_count": 12,
     "metadata": {},
     "output_type": "execute_result"
    }
   ],
   "source": [
    "#compute eigenvectors\n",
    "# Step 1: Compute eigenvalues and eigenvectors\n",
    "eigenvalues, eigenvectors = np.linalg.eigh(psi)\n",
    "\n",
    "# Step 2: Sort the eigenvalues and eigenvectors\n",
    "# Get indices that would sort the eigenvalues in descending order\n",
    "sorted_indices = np.argsort(eigenvalues)[::-1]\n",
    "# Sort eigenvalues\n",
    "sorted_eigenvalues = eigenvalues[sorted_indices]\n",
    "sorted_eigenvectors = eigenvectors[:, sorted_indices]\n",
    "\n",
    "# Step 3: Get the top eigenvector (first column of sorted_eigenvectors)\n",
    "top_eigenvector = sorted_eigenvectors[:, 0:2]\n",
    "\n",
    "top_eigenvector"
   ]
  },
  {
   "cell_type": "code",
   "execution_count": 19,
   "metadata": {},
   "outputs": [
    {
     "data": {
      "text/plain": [
       "array([-0.10660067, -0.0853288 , -0.09361405, -0.07702816, -0.07508986,\n",
       "       -0.072694  , -0.08729487, -0.08427606, -0.09144371, -0.07274008,\n",
       "        0.24500503,  0.25531724,  0.24603935,  0.26247304,  0.26068594,\n",
       "        0.24705898,  0.25234717,  0.25801078,  0.24524243,  0.26070305,\n",
       "       -0.18357074, -0.15350073, -0.17507608, -0.16168475, -0.17434628,\n",
       "       -0.16124583, -0.15865129, -0.17910856, -0.17089983, -0.16868865])"
      ]
     },
     "execution_count": 19,
     "metadata": {},
     "output_type": "execute_result"
    }
   ],
   "source": [
    "PCs = np.array(top_eigenvector)\n",
    "\n",
    "PCs[:,0]"
   ]
  },
  {
   "cell_type": "code",
   "execution_count": 22,
   "metadata": {},
   "outputs": [
    {
     "data": {
      "image/png": "[encoded data removed]",
      "text/plain": [
       "<Figure size 800x600 with 1 Axes>"
      ]
     },
     "metadata": {},
     "output_type": "display_data"
    }
   ],
   "source": [
    "import matplotlib.pyplot as plt\n",
    "plt.figure(figsize=(8, 6))\n",
    "plt.scatter(PCs[:, 0], PCs[:, 1], c='blue', edgecolor='k')\n",
    "plt.title(\"PCA Plot between top PCs of CEU, CHB, and YRI samples\")\n",
    "plt.xlabel(\"Principal Component 1\")\n",
    "plt.ylabel(\"Principal Component 2\")\n",
    "plt.grid(True)\n",
    "plt.show()"
   ]
  }
 ],
 "metadata": {
  "kernelspec": {
   "display_name": "base",
   "language": "python",
   "name": "python3"
  },
  "language_info": {
   "codemirror_mode": {
    "name": "ipython",
    "version": 3
   },
   "file_extension": ".py",
   "mimetype": "text/x-python",
   "name": "python",
   "nbconvert_exporter": "python",
   "pygments_lexer": "ipython3",
   "version": "3.11.0"
  }
 },
 "nbformat": 4,
 "nbformat_minor": 2
}
