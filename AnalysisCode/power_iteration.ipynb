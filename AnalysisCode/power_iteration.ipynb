{
 "cells": [
  {
   "cell_type": "markdown",
   "metadata": {},
   "source": [
    "Implement the method of power iteration to approximate the top 10 PCs from HapMap3 data (see Galinsky et al. 2016a Am J Hum Genet). \n",
    "\n",
    "\n",
    "In cases of subtle structure (e.g. 2 populations with low Fst, or a single admixed population), investigate how accuracy of inferred ancestry varies with (a) number of SNPs used, (b) number of samples used, (c) whether or not other populations not relevant to the subtle structure are included in the data set. Discuss. "
   ]
  },
  {
   "cell_type": "markdown",
   "metadata": {},
   "source": []
  },
  {
   "cell_type": "markdown",
   "metadata": {},
   "source": [
    "*********\n",
    "First part:\n",
    "Include all ancestries?\n",
    "Include all individuals? # does population size matter?\n",
    "Include all 23 chromosomes?\n",
    "\n",
    "#rare variants\n",
    "\n",
    "How large is the data if we use all 23 chromosomes? Should we aim to use SNPs all 23 chromosomes for better accuracy?\n",
    "\n",
    "(a) how do we assess the accuracy of inferred ancestry? How do we determine the inferred ancestry from PCs? clusters?\n",
    "(c) other populations not relevant to the subtle structure <- does this mean a population that is very distant to the admixed population?\n",
    "\n",
    "\n",
    "1. data pre-processing (data selection 1. standardize in some way? large/small population 2. which chromosome (based on number of SNPs) 3. how to handle rare/non-rare SNPs)\n",
    "2. measures after method (accuracy?)\n",
    "3. clarification on (c) distant to subtle structure. \n"
   ]
  },
  {
   "cell_type": "code",
   "execution_count": 2,
   "metadata": {},
   "outputs": [],
   "source": [
    "import numpy as np"
   ]
  },
  {
   "cell_type": "code",
   "execution_count": 3,
   "metadata": {},
   "outputs": [],
   "source": [
    "import sys\n",
    "#update the path to include the hw_data directory\n",
    "path = \"/Users/tinaryu/stat_gen/hw_data\"\n",
    "\n",
    "sys.path.append(path) \n",
    "#sys.path is a list of directories that Python searches when you use import statement\n",
    "#append then adds the hw_data to the directories to be searched\n",
    "from CB_02704 import *"
   ]
  },
  {
   "cell_type": "code",
   "execution_count": 4,
   "metadata": {},
   "outputs": [],
   "source": [
    "CEU = read_geno_pop_chr('CEU',2) #northern European, USA\n",
    "YRI = read_geno_pop_chr('YRI',2) ##Yoruba, Nigeria\n",
    "CHB = read_geno_pop_chr('CHB',2) #Chinese, China"
   ]
  },
  {
   "cell_type": "code",
   "execution_count": 5,
   "metadata": {},
   "outputs": [],
   "source": [
    "CEU_subset = CEU[:, :10]\n",
    "YRI_subset = YRI[:, :10]\n",
    "CHB_subset = CHB[:, :10]\n",
    "\n",
    "# Horizontally stack the sliced arrays\n",
    "combined = np.ma.hstack([CEU_subset, YRI_subset, CHB_subset])\n"
   ]
  },
  {
   "cell_type": "markdown",
   "metadata": {},
   "source": [
    "calculate covariance matrix"
   ]
  },
  {
   "cell_type": "code",
   "execution_count": 18,
   "metadata": {},
   "outputs": [],
   "source": [
    "def calc_af(geno): \n",
    "    '''Calculate the allele frequencies for each row in the geno'''\n",
    "    return geno.mean(axis=1).filled(-1) / 2\n",
    "\n",
    "\n",
    "# calculate allele frequency and standard deviation\n",
    "p = calc_af(combined)\n",
    "SD = np.sqrt(2*p*(1-p)) # assuming Hardy-Weinberg equilibrium\n",
    "\n",
    "# normalize genotypes\n",
    "X = ((combined - 2*p[:,None]) / SD[:,None]).filled(0)\n",
    "\n",
    "# remove monomorphic rows\n",
    "X = X[SD != 0,]\n",
    "# calculate the covariance matrix\n",
    "psi = X.transpose().dot(X) / float(X.shape[0])"
   ]
  },
  {
   "cell_type": "code",
   "execution_count": 7,
   "metadata": {},
   "outputs": [
    {
     "data": {
      "text/plain": [
       "array([[ 1.04943248,  0.14421623,  0.10411379,  0.11943355,  0.12449176,\n",
       "         0.12380583,  0.11804461,  0.11456665,  0.11464603,  0.10273008,\n",
       "        -0.1436181 , -0.13266905, -0.13889074, -0.15679741, -0.1514123 ,\n",
       "        -0.14640886, -0.17186863, -0.14080597, -0.15867191, -0.15553921,\n",
       "        -0.05089041, -0.08978003, -0.02483916, -0.05791935, -0.04814931,\n",
       "        -0.05276475, -0.10296403, -0.06725981, -0.0735196 , -0.05071238],\n",
       "       [ 0.14421623,  1.09759931,  0.10867899,  0.10893344,  0.14452284,\n",
       "         0.12066127,  0.09416893,  0.13115135,  0.13083536,  0.08052168,\n",
       "        -0.14486507, -0.12325276, -0.14135572, -0.15646782, -0.13149105,\n",
       "        -0.14989317, -0.12597396, -0.10752576, -0.13152391, -0.11833303,\n",
       "        -0.09552731, -0.08755446, -0.06285496, -0.05877258, -0.11676745,\n",
       "        -0.09845454, -0.0609748 , -0.09149732, -0.05361296, -0.10459078],\n",
       "       [ 0.10411379,  0.10867899,  1.05271384,  0.11794839,  0.14106468,\n",
       "         0.11341406,  0.10640231,  0.1211409 ,  0.10086243,  0.11914722,\n",
       "        -0.14212841, -0.12378536, -0.12679779, -0.14225853, -0.1427533 ,\n",
       "        -0.13425149, -0.14877317, -0.14969414, -0.13175469, -0.14159511,\n",
       "        -0.06651803, -0.08030883, -0.06245648, -0.08559625, -0.05482856,\n",
       "        -0.10945085, -0.07377972, -0.07617487, -0.02272923, -0.06985179],\n",
       "       [ 0.11943355,  0.10893344,  0.11794839,  1.06169842,  0.13038393,\n",
       "         0.126563  ,  0.11641216,  0.10672143,  0.12834627,  0.10568592,\n",
       "        -0.11919377, -0.11442684, -0.10567042, -0.12997191, -0.13698236,\n",
       "        -0.13403349, -0.12907656, -0.1265499 , -0.11796657, -0.1368133 ,\n",
       "        -0.09156263, -0.11547488, -0.06423466, -0.09531584, -0.09300485,\n",
       "        -0.10686123, -0.07538763, -0.06333445, -0.06141119, -0.10485404],\n",
       "       [ 0.12449176,  0.14452284,  0.14106468,  0.13038393,  1.0535869 ,\n",
       "         0.12365264,  0.09518427,  0.11352791,  0.13233583,  0.0963207 ,\n",
       "        -0.10914573, -0.12149848, -0.13699113, -0.13540562, -0.1230979 ,\n",
       "        -0.1232934 , -0.1226442 , -0.11610459, -0.13540797, -0.12028828,\n",
       "        -0.10198706, -0.0903905 , -0.07328835, -0.07434571, -0.07826442,\n",
       "        -0.09665738, -0.0826581 , -0.12149847, -0.08093906, -0.11116512],\n",
       "       [ 0.12380583,  0.12066127,  0.11341406,  0.126563  ,  0.12365264,\n",
       "         1.02113507,  0.11294634,  0.12205926,  0.13466457,  0.11678218,\n",
       "        -0.10906493, -0.12375349, -0.11169518, -0.14633132, -0.12929079,\n",
       "        -0.12742049, -0.12778598, -0.12850954, -0.098577  , -0.11170659,\n",
       "        -0.09175518, -0.0708747 , -0.10016442, -0.09138457, -0.09748773,\n",
       "        -0.10803459, -0.09281067, -0.08606871, -0.08767515, -0.07529319],\n",
       "       [ 0.11804461,  0.09416893,  0.10640231,  0.11641216,  0.09518427,\n",
       "         0.11294634,  1.08049017,  0.14450677,  0.10779109,  0.09606919,\n",
       "        -0.13735135, -0.14324744, -0.12707901, -0.147463  , -0.13186454,\n",
       "        -0.11754265, -0.12304132, -0.1411104 , -0.13225005, -0.12563113,\n",
       "        -0.06261742, -0.05787426, -0.09018936, -0.0855333 , -0.04918901,\n",
       "        -0.09353157, -0.09099635, -0.06094275, -0.0773763 , -0.07718462],\n",
       "       [ 0.11456665,  0.13115135,  0.1211409 ,  0.10672143,  0.11352791,\n",
       "         0.12205926,  0.14450677,  1.02423742,  0.11765393,  0.0893047 ,\n",
       "        -0.13152557, -0.13379772, -0.1138276 , -0.13610979, -0.11359229,\n",
       "        -0.13215351, -0.12954155, -0.14893081, -0.11997643, -0.14476274,\n",
       "        -0.06213125, -0.08039812, -0.07417788, -0.05264469, -0.08934546,\n",
       "        -0.11610291, -0.07699632, -0.08555757, -0.07231036, -0.07098776],\n",
       "       [ 0.11464603,  0.13083536,  0.10086243,  0.12834627,  0.13233583,\n",
       "         0.13466457,  0.10779109,  0.11765393,  1.05799556,  0.07729574,\n",
       "        -0.12520569, -0.15975103, -0.14393581, -0.1292938 , -0.14983962,\n",
       "        -0.12885646, -0.14800853, -0.1235507 , -0.13311607, -0.12770025,\n",
       "        -0.07664007, -0.07924836, -0.04409471, -0.08656882, -0.08285591,\n",
       "        -0.10170996, -0.057518  , -0.06489021, -0.07044632, -0.06919651],\n",
       "       [ 0.10273008,  0.08052168,  0.11914722,  0.10568592,  0.0963207 ,\n",
       "         0.11678218,  0.09606919,  0.0893047 ,  0.07729574,  1.05334727,\n",
       "        -0.11008535, -0.12791425, -0.11862095, -0.12558773, -0.14340197,\n",
       "        -0.11164336, -0.1083199 , -0.09443104, -0.10775187, -0.13154182,\n",
       "        -0.05980963, -0.08669007, -0.07802223, -0.06146041, -0.05998377,\n",
       "        -0.08670949, -0.09912698, -0.0829607 , -0.08784405, -0.0552991 ],\n",
       "       [-0.1436181 , -0.14486507, -0.14212841, -0.11919377, -0.10914573,\n",
       "        -0.10906493, -0.13735135, -0.13152557, -0.12520569, -0.11008535,\n",
       "         1.09772674,  0.19297543,  0.1792393 ,  0.22045225,  0.21639491,\n",
       "         0.18531338,  0.19718736,  0.19481488,  0.19220955,  0.17685297,\n",
       "        -0.15318173, -0.11513678, -0.17921456, -0.14209733, -0.17736903,\n",
       "        -0.14777398, -0.16171369, -0.1940056 , -0.1621935 , -0.14829661],\n",
       "       [-0.13266905, -0.12325276, -0.12378536, -0.11442684, -0.12149848,\n",
       "        -0.12375349, -0.14324744, -0.13379772, -0.15975103, -0.12791425,\n",
       "         0.19297543,  1.0941605 ,  0.20651746,  0.1991503 ,  0.20664519,\n",
       "         0.21423984,  0.18893476,  0.22549379,  0.20513646,  0.21750333,\n",
       "        -0.18514304, -0.15577693, -0.1636494 , -0.15784732, -0.16929577,\n",
       "        -0.16562108, -0.16386898, -0.15886884, -0.16851653, -0.15807274],\n",
       "       [-0.13889074, -0.14135572, -0.12679779, -0.10567042, -0.13699113,\n",
       "        -0.11169518, -0.12707901, -0.1138276 , -0.14393581, -0.11862095,\n",
       "         0.1792393 ,  0.20651746,  1.08728036,  0.21046933,  0.210481  ,\n",
       "         0.19086175,  0.18824904,  0.1884783 ,  0.19802827,  0.20388869,\n",
       "        -0.17454326, -0.1566561 , -0.16685047, -0.15341091, -0.16114783,\n",
       "        -0.15006134, -0.15195599, -0.15120368, -0.15533902, -0.17746056],\n",
       "       [-0.15679741, -0.15646782, -0.14225853, -0.12997191, -0.13540562,\n",
       "        -0.14633132, -0.147463  , -0.13610979, -0.1292938 , -0.12558773,\n",
       "         0.22045225,  0.1991503 ,  0.21046933,  1.14984086,  0.20929899,\n",
       "         0.20764829,  0.20072159,  0.2038488 ,  0.201404  ,  0.2267056 ,\n",
       "        -0.17197519, -0.16086803, -0.17158333, -0.16113905, -0.17278421,\n",
       "        -0.15537427, -0.12856098, -0.18386194, -0.16991611, -0.14778999],\n",
       "       [-0.1514123 , -0.13149105, -0.1427533 , -0.13698236, -0.1230979 ,\n",
       "        -0.12929079, -0.13186454, -0.11359229, -0.14983962, -0.14340197,\n",
       "         0.21639491,  0.20664519,  0.210481  ,  0.20929899,  1.1228666 ,\n",
       "         0.19243163,  0.23018699,  0.20357324,  0.19656869,  0.21553897,\n",
       "        -0.19360911, -0.14569904, -0.17929107, -0.16331137, -0.16119965,\n",
       "        -0.1428459 , -0.15030242, -0.16520524, -0.18084593, -0.16795037],\n",
       "       [-0.14640886, -0.14989317, -0.13425149, -0.13403349, -0.1232934 ,\n",
       "        -0.12742049, -0.11754265, -0.13215351, -0.12885646, -0.11164336,\n",
       "         0.18531338,  0.21423984,  0.19086175,  0.20764829,  0.19243163,\n",
       "         1.08842541,  0.18209099,  0.20946496,  0.20034334,  0.20946164,\n",
       "        -0.1678027 , -0.14496956, -0.18597677, -0.15415316, -0.15277285,\n",
       "        -0.14194114, -0.16114037, -0.15164464, -0.15726409, -0.15711907],\n",
       "       [-0.17186863, -0.12597396, -0.14877317, -0.12907656, -0.1226442 ,\n",
       "        -0.12778598, -0.12304132, -0.12954155, -0.14800853, -0.1083199 ,\n",
       "         0.19718736,  0.18893476,  0.18824904,  0.20072159,  0.23018699,\n",
       "         0.18209099,  1.10430532,  0.22585392,  0.19689817,  0.21197328,\n",
       "        -0.17446784, -0.11148538, -0.15576538, -0.17584358, -0.16452722,\n",
       "        -0.14312456, -0.15248955, -0.18146077, -0.15665571, -0.17554762],\n",
       "       [-0.14080597, -0.10752576, -0.14969414, -0.1265499 , -0.11610459,\n",
       "        -0.12850954, -0.1411104 , -0.14893081, -0.1235507 , -0.09443104,\n",
       "         0.19481488,  0.22549379,  0.1884783 ,  0.2038488 ,  0.20357324,\n",
       "         0.20946496,  0.22585392,  1.091024  ,  0.19614011,  0.2281121 ,\n",
       "        -0.16528133, -0.15657503, -0.17052951, -0.16055312, -0.17920483,\n",
       "        -0.17527718, -0.16206736, -0.17577287, -0.18353271, -0.16079732],\n",
       "       [-0.15867191, -0.13152391, -0.13175469, -0.11796657, -0.13540797,\n",
       "        -0.098577  , -0.13225005, -0.11997643, -0.13311607, -0.10775187,\n",
       "         0.19220955,  0.20513646,  0.19802827,  0.201404  ,  0.19656869,\n",
       "         0.20034334,  0.19689817,  0.19614011,  1.07435005,  0.19551111,\n",
       "        -0.16380944, -0.18001316, -0.1571125 , -0.14444117, -0.16412643,\n",
       "        -0.13584184, -0.15519484, -0.18513494, -0.14885608, -0.15506289],\n",
       "       [-0.15553921, -0.11833303, -0.14159511, -0.1368133 , -0.12028828,\n",
       "        -0.11170659, -0.12563113, -0.14476274, -0.12770025, -0.13154182,\n",
       "         0.17685297,  0.21750333,  0.20388869,  0.2267056 ,  0.21553897,\n",
       "         0.20946164,  0.21197328,  0.2281121 ,  0.19551111,  1.10966307,\n",
       "        -0.20087348, -0.15907672, -0.16498842, -0.16040721, -0.16868695,\n",
       "        -0.16668228, -0.15037364, -0.16160995, -0.1763277 , -0.17227295],\n",
       "       [-0.05089041, -0.09552731, -0.06651803, -0.09156263, -0.10198706,\n",
       "        -0.09175518, -0.06261742, -0.06213125, -0.07664007, -0.05980963,\n",
       "        -0.15318173, -0.18514304, -0.17454326, -0.17197519, -0.19360911,\n",
       "        -0.1678027 , -0.17446784, -0.16528133, -0.16380944, -0.20087348,\n",
       "         1.05749541,  0.14864037,  0.15487943,  0.13453961,  0.21324184,\n",
       "         0.1386499 ,  0.15011208,  0.17103936,  0.16585592,  0.17567219],\n",
       "       [-0.08978003, -0.08755446, -0.08030883, -0.11547488, -0.0903905 ,\n",
       "        -0.0708747 , -0.05787426, -0.08039812, -0.07924836, -0.08669007,\n",
       "        -0.11513678, -0.15577693, -0.1566561 , -0.16086803, -0.14569904,\n",
       "        -0.14496956, -0.11148538, -0.15657503, -0.18001316, -0.15907672,\n",
       "         0.14864037,  1.08104134,  0.12313117,  0.11943358,  0.12824849,\n",
       "         0.14726628,  0.13205145,  0.19391723,  0.13698965,  0.11413137],\n",
       "       [-0.02483916, -0.06285496, -0.06245648, -0.06423466, -0.07328835,\n",
       "        -0.10016442, -0.09018936, -0.07417788, -0.04409471, -0.07802223,\n",
       "        -0.17921456, -0.1636494 , -0.16685047, -0.17158333, -0.17929107,\n",
       "        -0.18597677, -0.15576538, -0.17052951, -0.1571125 , -0.16498842,\n",
       "         0.15487943,  0.12313117,  1.12529324,  0.14465454,  0.11172168,\n",
       "         0.11929998,  0.12301593,  0.159479  ,  0.14984099,  0.15796764],\n",
       "       [-0.05791935, -0.05877258, -0.08559625, -0.09531584, -0.07434571,\n",
       "        -0.09138457, -0.0855333 , -0.05264469, -0.08656882, -0.06146041,\n",
       "        -0.14209733, -0.15784732, -0.15341091, -0.16113905, -0.16331137,\n",
       "        -0.15415316, -0.17584358, -0.16055312, -0.14444117, -0.16040721,\n",
       "         0.13453961,  0.11943358,  0.14465454,  1.07127155,  0.13691155,\n",
       "         0.15466389,  0.14683391,  0.12279522,  0.1399175 ,  0.15172438],\n",
       "       [-0.04814931, -0.11676745, -0.05482856, -0.09300485, -0.07826442,\n",
       "        -0.09748773, -0.04918901, -0.08934546, -0.08285591, -0.05998377,\n",
       "        -0.17736903, -0.16929577, -0.16114783, -0.17278421, -0.16119965,\n",
       "        -0.15277285, -0.16452722, -0.17920483, -0.16412643, -0.16868695,\n",
       "         0.21324184,  0.12824849,  0.11172168,  0.13691155,  1.0650846 ,\n",
       "         0.18619829,  0.12965825,  0.16452304,  0.14026707,  0.16513644],\n",
       "       [-0.05276475, -0.09845454, -0.10945085, -0.10686123, -0.09665738,\n",
       "        -0.10803459, -0.09353157, -0.11610291, -0.10170996, -0.08670949,\n",
       "        -0.14777398, -0.16562108, -0.15006134, -0.15537427, -0.1428459 ,\n",
       "        -0.14194114, -0.14312456, -0.17527718, -0.13584184, -0.16668228,\n",
       "         0.1386499 ,  0.14726628,  0.11929998,  0.15466389,  0.18619829,\n",
       "         1.10906109,  0.16564801,  0.17137904,  0.13224539,  0.17040898],\n",
       "       [-0.10296403, -0.0609748 , -0.07377972, -0.07538763, -0.0826581 ,\n",
       "        -0.09281067, -0.09099635, -0.07699632, -0.057518  , -0.09912698,\n",
       "        -0.16171369, -0.16386898, -0.15195599, -0.12856098, -0.15030242,\n",
       "        -0.16114037, -0.15248955, -0.16206736, -0.15519484, -0.15037364,\n",
       "         0.15011208,  0.13205145,  0.12301593,  0.14683391,  0.12965825,\n",
       "         0.16564801,  1.07705677,  0.14123769,  0.14847608,  0.13679026],\n",
       "       [-0.06725981, -0.09149732, -0.07617487, -0.06333445, -0.12149847,\n",
       "        -0.08606871, -0.06094275, -0.08555757, -0.06489021, -0.0829607 ,\n",
       "        -0.1940056 , -0.15886884, -0.15120368, -0.18386194, -0.16520524,\n",
       "        -0.15164464, -0.18146077, -0.17577287, -0.18513494, -0.16160995,\n",
       "         0.17103936,  0.19391723,  0.159479  ,  0.12279522,  0.16452304,\n",
       "         0.17137904,  0.14123769,  1.07522853,  0.14669667,  0.16265753],\n",
       "       [-0.0735196 , -0.05361296, -0.02272923, -0.06141119, -0.08093906,\n",
       "        -0.08767515, -0.0773763 , -0.07231036, -0.07044632, -0.08784405,\n",
       "        -0.1621935 , -0.16851653, -0.15533902, -0.16991611, -0.18084593,\n",
       "        -0.15726409, -0.15665571, -0.18353271, -0.14885608, -0.1763277 ,\n",
       "         0.16585592,  0.13698965,  0.14984099,  0.1399175 ,  0.14026707,\n",
       "         0.13224539,  0.14847608,  0.14669667,  1.05723728,  0.12978503],\n",
       "       [-0.05071238, -0.10459078, -0.06985179, -0.10485404, -0.11116512,\n",
       "        -0.07529319, -0.07718462, -0.07098776, -0.06919651, -0.0552991 ,\n",
       "        -0.14829661, -0.15807274, -0.17746056, -0.14778999, -0.16795037,\n",
       "        -0.15711907, -0.17554762, -0.16079732, -0.15506289, -0.17227295,\n",
       "         0.17567219,  0.11413137,  0.15796764,  0.15172438,  0.16513644,\n",
       "         0.17040898,  0.13679026,  0.16265753,  0.12978503,  1.04523159]])"
      ]
     },
     "execution_count": 7,
     "metadata": {},
     "output_type": "execute_result"
    }
   ],
   "source": [
    "psi"
   ]
  },
  {
   "cell_type": "markdown",
   "metadata": {},
   "source": [
    "using power iteration method to find the top eigenvector"
   ]
  },
  {
   "cell_type": "code",
   "execution_count": 172,
   "metadata": {},
   "outputs": [],
   "source": [
    "def normalize_vec(v): # *\n",
    "    '''normalize vector to have unit length'''\n",
    "    v_to_return = v/np.sqrt((v**2).sum())\n",
    "    return v_to_return\n",
    "\n",
    "# multiply with covariance matrix and renormalize until convergence\n",
    "def RunUntilConverge(b,psi):\n",
    "    num_iters = 0 \n",
    "    while(True):\n",
    "        vec_old = b\n",
    "        b = normalize_vec(psi.dot(vec_old))\n",
    "\n",
    "        current_diff = ((b - vec_old)**2).mean()\n",
    "\n",
    "        if current_diff < 1e-16:\n",
    "            print(\"Power iteration: converged at iter=\"+str(num_iters))\n",
    "            break\n",
    "        if num_iters > 100000:\n",
    "            print(\"Power iteration: did not converge\")\n",
    "            break\n",
    "        num_iters+=1\n",
    "    return b\n",
    "\n",
    "def GetTop10PCs(psi):\n",
    "    '''Get the top 10 principal components'''\n",
    "    b = normalize_vec(np.random.rand(len(psi)))\n",
    "    pcs = []\n",
    "    #b = normalize_vec(np.random.rand(len(psi)))\n",
    "    for i in range(10):\n",
    "        b = RunUntilConverge(b, psi)\n",
    "        pcs.append(b)\n",
    "        d = b.T @ psi @ b\n",
    "        psi = psi - d * np.outer(b, b)\n",
    "    return pcs"
   ]
  },
  {
   "cell_type": "code",
   "execution_count": 173,
   "metadata": {},
   "outputs": [
    {
     "name": "stdout",
     "output_type": "stream",
     "text": [
      "Power iteration: converged at iter=36\n",
      "Power iteration: converged at iter=1\n",
      "Power iteration: converged at iter=358\n",
      "Power iteration: converged at iter=185\n",
      "Power iteration: converged at iter=581\n",
      "Power iteration: converged at iter=2\n",
      "Power iteration: converged at iter=901\n",
      "Power iteration: converged at iter=986\n",
      "Power iteration: converged at iter=2\n",
      "Power iteration: converged at iter=2990\n"
     ]
    }
   ],
   "source": [
    "top10PCs = GetTop10PCs(psi)"
   ]
  },
  {
   "cell_type": "code",
   "execution_count": 201,
   "metadata": {},
   "outputs": [
    {
     "data": {
      "text/plain": [
       "array([ 0.18257419,  0.07574977, -0.38788669,  0.05931721,  0.2203037 ,\n",
       "       -0.00859315,  0.06616441, -0.40025073,  0.23223392,  0.11081897,\n",
       "        0.14463364,  0.15820633, -0.1646342 ,  0.39083665, -0.06905759,\n",
       "       -0.0702014 ,  0.24508101,  0.07052177, -0.10170468, -0.02928646,\n",
       "       -0.09013332, -0.15792842, -0.16859154,  0.05595353, -0.08333863,\n",
       "        0.03849919, -0.25504705,  0.10342231,  0.1963777 , -0.16868865])"
      ]
     },
     "execution_count": 201,
     "metadata": {},
     "output_type": "execute_result"
    }
   ],
   "source": [
    "#check if power iteration values are correct with built-in function\n",
    "evals, evecs = np.linalg.eigh(psi)\n",
    "evecs[-1]"
   ]
  },
  {
   "cell_type": "code",
   "execution_count": 198,
   "metadata": {},
   "outputs": [
    {
     "data": {
      "image/png": "[encoded data removed]",
      "text/plain": [
       "<Figure size 800x600 with 1 Axes>"
      ]
     },
     "metadata": {},
     "output_type": "display_data"
    }
   ],
   "source": [
    "import matplotlib.pyplot as plt\n",
    "\n",
    "# Calculate PCs (assuming you have the first two principal components in top10PCs) # Replace with your PC1 and PC2 arrays\n",
    "\n",
    "# Define indices for each population\n",
    "ceu_indices = range(0, CEU_subset.shape[1])\n",
    "yri_indices = range(CEU_subset.shape[1], CEU_subset.shape[1] + YRI_subset.shape[1])\n",
    "chb_indices = range(CEU_subset.shape[1] + YRI_subset.shape[1], combined.shape[1])\n",
    "\n",
    "# Plot each population with a different color\n",
    "plt.figure(figsize=(8, 6))\n",
    "\n",
    "# CEU Population\n",
    "plt.scatter(top10PCs[0][ceu_indices], top10PCs[1][ceu_indices], c='blue', label='CEU', edgecolor='k')\n",
    "# YRI Population\n",
    "plt.scatter(top10PCs[0][yri_indices], top10PCs[1][yri_indices], c='green', label='YRI', edgecolor='k')\n",
    "# CHB Population\n",
    "plt.scatter(top10PCs[0][chb_indices], top10PCs[1][chb_indices], c='red', label='CHB', edgecolor='k')\n",
    "\n",
    "# Add labels and title\n",
    "plt.title(\"PCA Plot between top PCs of CEU, CHB, and YRI samples\")\n",
    "plt.xlabel(\"Principal Component 1\")\n",
    "plt.ylabel(\"Principal Component 2\")\n",
    "plt.legend()\n",
    "plt.grid(True)\n",
    "plt.show()"
   ]
  }
 ],
 "metadata": {
  "kernelspec": {
   "display_name": "base",
   "language": "python",
   "name": "python3"
  },
  "language_info": {
   "codemirror_mode": {
    "name": "ipython",
    "version": 3
   },
   "file_extension": ".py",
   "mimetype": "text/x-python",
   "name": "python",
   "nbconvert_exporter": "python",
   "pygments_lexer": "ipython3",
   "version": "3.11.0"
  }
 },
 "nbformat": 4,
 "nbformat_minor": 2
}
