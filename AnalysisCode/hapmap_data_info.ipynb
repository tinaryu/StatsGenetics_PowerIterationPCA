{
 "cells": [
  {
   "cell_type": "code",
   "execution_count": 2,
   "metadata": {},
   "outputs": [],
   "source": [
    "import numpy as np\n",
    "import sys\n",
    "#update the path to include the hw_data directory\n",
    "path = \"/Users/tinaryu/stat_gen/hw_data\"\n",
    "\n",
    "sys.path.append(path) \n",
    "#sys.path is a list of directories that Python searches when you use import statement\n",
    "#append then adds the hw_data to the directories to be searched\n",
    "from CB_02704 import *"
   ]
  },
  {
   "cell_type": "markdown",
   "metadata": {},
   "source": [
    "What is the number of SNPs per chromosome?"
   ]
  },
  {
   "cell_type": "code",
   "execution_count": 19,
   "metadata": {},
   "outputs": [],
   "source": [
    "df = read_snp_pop('HapMap3')"
   ]
  },
  {
   "cell_type": "code",
   "execution_count": 22,
   "metadata": {},
   "outputs": [],
   "source": [
    "snpnum = df.groupby('chromosome').size()\n",
    "snpcount = pd.DataFrame(snpnum, columns=['SNP count'])\n",
    "snpcount.to_csv('snp_count.csv')"
   ]
  },
  {
   "cell_type": "markdown",
   "metadata": {},
   "source": [
    "How many samples are there in each population?"
   ]
  },
  {
   "cell_type": "code",
   "execution_count": 3,
   "metadata": {},
   "outputs": [],
   "source": [
    "inds = read_ind_pop('HapMap3')"
   ]
  },
  {
   "cell_type": "code",
   "execution_count": 17,
   "metadata": {},
   "outputs": [],
   "source": [
    "path = \"../hapmap_pop_info.csv\"\n",
    "pop_info = pd.read_csv(path)\n",
    "pop_info['actual sample size'] = inds.groupby('pop').size().tolist()\n",
    "pop_info.drop(columns=['number of samples'], inplace=True)\n",
    "pop_info.to_csv('pop_info.csv',index=False)"
   ]
  },
  {
   "cell_type": "markdown",
   "metadata": {},
   "source": []
  }
 ],
 "metadata": {
  "kernelspec": {
   "display_name": "base",
   "language": "python",
   "name": "python3"
  },
  "language_info": {
   "codemirror_mode": {
    "name": "ipython",
    "version": 3
   },
   "file_extension": ".py",
   "mimetype": "text/x-python",
   "name": "python",
   "nbconvert_exporter": "python",
   "pygments_lexer": "ipython3",
   "version": "3.11.0"
  }
 },
 "nbformat": 4,
 "nbformat_minor": 2
}
